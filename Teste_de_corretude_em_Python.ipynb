{
  "nbformat": 4,
  "nbformat_minor": 0,
  "metadata": {
    "colab": {
      "provenance": []
    },
    "kernelspec": {
      "name": "python3",
      "display_name": "Python 3"
    },
    "language_info": {
      "name": "python"
    }
  },
  "cells": [
    {
      "cell_type": "code",
      "execution_count": 1,
      "metadata": {
        "id": "_EjhI81u84Fy"
      },
      "outputs": [],
      "source": [
        "import pandas as pd\n",
        "import numpy as np/usuarios/alunos/bernardoim/Downloads/Untitled8.ipynb\n",
        "from sklearn.linear_model import LinearRegression"
      ]
    },
    {
      "cell_type": "code",
      "source": [
        "def carregar_dados(arquivo_csv):\n",
        "    # Lê os dados do arquivo CSV\n",
        "    dados = pd.read_csv(arquivo_csv)\n",
        "    return dados['x'].values, dados['y'].values"
      ],
      "metadata": {
        "id": "x7XaG8Z087Aj"
      },
      "execution_count": 7,
      "outputs": []
    },
    {
      "cell_type": "code",
      "source": [
        "def regressao_linear(X, Y):\n",
        "    # Cria e treina o modelo de regressão linear\n",
        "    modelo = LinearRegression()\n",
        "    X = X.reshape(-1, 1)  # O scikit-learn espera X como matriz 2D\n",
        "    modelo.fit(X, Y)\n",
        "\n",
        "    A = modelo.intercept_  # Intercepto\n",
        "    B = modelo.coef_[0]    # Coeficiente (inclinação)\n",
        "\n",
        "    return A, B"
      ],
      "metadata": {
        "id": "OgbYGE4v89Eb"
      },
      "execution_count": 3,
      "outputs": []
    },
    {
      "cell_type": "code",
      "source": [
        "def prever_valores(A, B):\n",
        "    # Função para previsão interativa com o modelo\n",
        "    while True:\n",
        "        entrada = input(\"\\nDigite um valor de X para prever Y (ou 'q' para sair): \")\n",
        "        if entrada.lower() in ['q', 'sair']:\n",
        "            break\n",
        "        try:\n",
        "            x = float(entrada)\n",
        "            y_prev = A + B * x\n",
        "            print(f\"Y previsto = {y_prev:.6f}\")\n",
        "        except ValueError:\n",
        "            print(\"Entrada inválida. Por favor, insira um número ou 'q' para sair.\")"
      ],
      "metadata": {
        "id": "NBXfH4Pv8_EG"
      },
      "execution_count": 4,
      "outputs": []
    },
    {
      "cell_type": "code",
      "source": [
        "def main():\n",
        "    nome_arquivo = 'dados.csv'\n",
        "\n",
        "    X, Y = carregar_dados(nome_arquivo)\n",
        "\n",
        "    # Calcula os coeficientes A (intercepto) e B (inclinação) usando regressão linear\n",
        "    A, B = regressao_linear(X, Y)\n",
        "\n",
        "    print(f\"\\n=== RESULTADOS ===\")\n",
        "    print(f\"A (intercepto): {A:.6f}\")\n",
        "    print(f\"B (inclinacao): {B:.6f}\")\n",
        "\n",
        "    # Modo de previsão interativo\n",
        "    prever_valores(A, B)"
      ],
      "metadata": {
        "id": "uvyBXsTK9BPK"
      },
      "execution_count": 9,
      "outputs": []
    },
    {
      "cell_type": "code",
      "source": [
        "if __name__ == \"__main__\":\n",
        "    main()"
      ],
      "metadata": {
        "colab": {
          "base_uri": "https://localhost:8080/"
        },
        "id": "uTYk0yTt-6Df",
        "outputId": "9108ad1c-c783-43fa-b6e7-f1f953adb296"
      },
      "execution_count": 10,
      "outputs": [
        {
          "name": "stdout",
          "output_type": "stream",
          "text": [
            "\n",
            "=== RESULTADOS ===\n",
            "A (intercepto): 1.999086\n",
            "B (inclinacao): 3.500000\n",
            "\n",
            "Digite um valor de X para prever Y (ou 'q' para sair): sair\n"
          ]
        }
      ]
    }
  ]
}